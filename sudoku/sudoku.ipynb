{
 "cells": [
  {
   "cell_type": "markdown",
   "metadata": {},
   "source": [
    "# Sudoku Player"
   ]
  },
  {
   "cell_type": "code",
   "execution_count": 1,
   "metadata": {},
   "outputs": [],
   "source": [
    "sudoku_empty = [\n",
    "    [0, 0, 0, 0, 0, 0, 0, 0, 0],\n",
    "    [0, 0, 0, 0, 0, 0, 0, 0, 0],\n",
    "    [0, 0, 0, 0, 0, 0, 0, 0, 0],\n",
    "    [0, 0, 0, 0, 0, 0, 0, 0, 0],\n",
    "    [0, 0, 0, 0, 0, 0, 0, 0, 0],\n",
    "    [0, 0, 0, 0, 0, 0, 0, 0, 0],\n",
    "    [0, 0, 0, 0, 0, 0, 0, 0, 0],\n",
    "    [0, 0, 0, 0, 0, 0, 0, 0, 0],\n",
    "    [0, 0, 0, 0, 0, 0, 0, 0, 0],\n",
    "]\n",
    "sudoku_invalid_row = [\n",
    "    [1, 0, 0, 0, 0, 0, 1, 0, 0],\n",
    "    [0, 0, 0, 0, 0, 0, 0, 0, 0],\n",
    "    [0, 0, 0, 0, 0, 0, 0, 0, 0],\n",
    "    [0, 0, 0, 0, 0, 0, 0, 0, 0],\n",
    "    [0, 0, 0, 0, 0, 0, 0, 0, 0],\n",
    "    [0, 0, 0, 0, 0, 0, 0, 0, 0],\n",
    "    [0, 0, 0, 0, 0, 0, 0, 0, 0],\n",
    "    [0, 0, 0, 0, 0, 0, 0, 0, 0],\n",
    "    [0, 0, 0, 0, 0, 0, 0, 0, 0],\n",
    "]\n",
    "sudoku_invalid_column = [\n",
    "    [1, 0, 0, 0, 0, 0, 0, 0, 0],\n",
    "    [0, 0, 0, 0, 0, 0, 0, 0, 0],\n",
    "    [0, 0, 0, 0, 0, 0, 0, 0, 0],\n",
    "    [0, 0, 0, 0, 0, 0, 0, 0, 0],\n",
    "    [0, 0, 0, 0, 0, 0, 0, 0, 0],\n",
    "    [0, 0, 0, 0, 0, 0, 0, 0, 0],\n",
    "    [1, 0, 0, 0, 0, 0, 0, 0, 0],\n",
    "    [0, 0, 0, 0, 0, 0, 0, 0, 0],\n",
    "    [0, 0, 0, 0, 0, 0, 0, 0, 0],\n",
    "]\n",
    "sudoku_invalid_block = [\n",
    "    [1, 0, 0, 0, 0, 0, 0, 0, 0],\n",
    "    [0, 0, 0, 0, 0, 0, 0, 0, 0],\n",
    "    [0, 0, 1, 0, 0, 0, 0, 0, 0],\n",
    "    [0, 0, 0, 0, 0, 0, 0, 0, 0],\n",
    "    [0, 0, 0, 0, 0, 0, 0, 0, 0],\n",
    "    [0, 0, 0, 0, 0, 0, 0, 0, 0],\n",
    "    [0, 0, 0, 0, 0, 0, 0, 0, 0],\n",
    "    [0, 0, 0, 0, 0, 0, 0, 0, 0],\n",
    "    [0, 0, 0, 0, 0, 0, 0, 0, 0],\n",
    "]\n",
    "sudoku_1 = [\n",
    "    [0, 0, 0, 0, 0, 6, 0, 0, 5],\n",
    "    [0, 0, 0, 7, 0, 0, 4, 0, 0],\n",
    "    [0, 0, 0, 0, 5, 1, 8, 2, 6],\n",
    "    [0, 1, 0, 6, 0, 9, 5, 3, 0],\n",
    "    [0, 6, 0, 0, 0, 0, 0, 9, 0],\n",
    "    [0, 9, 3, 4, 0, 2, 0, 8, 0],\n",
    "    [8, 7, 6, 1, 2, 0, 0, 0, 0],\n",
    "    [0, 0, 9, 0, 0, 7, 0, 0, 0],\n",
    "    [4, 0, 0, 5, 0, 0, 0, 0, 0],\n",
    "]\n"
   ]
  },
  {
   "cell_type": "code",
   "execution_count": 2,
   "metadata": {},
   "outputs": [],
   "source": [
    "def valid_rows(board):\n",
    "    for row in board:\n",
    "        for col_index in range(8):\n",
    "            if row[col_index] == 0:\n",
    "                continue\n",
    "            for compare_index in range(col_index + 1, 9):\n",
    "                if row[col_index] == row[compare_index]:\n",
    "                    return False\n",
    "    return True\n",
    "\n",
    "\n",
    "def valid_board(sudoku):\n",
    "    if not valid_rows(board=sudoku):\n",
    "        return False\n",
    "    # switch rows and columns and validate\n",
    "    if not valid_rows(board=zip(*sudoku)):\n",
    "        return False\n",
    "    # convert block to rows and validate\n",
    "    return valid_rows(\n",
    "        board=[\n",
    "            sudoku_1[top_row_no][left_col_no : left_col_no + 3]\n",
    "            + sudoku_1[top_row_no + 1][left_col_no : left_col_no + 3]\n",
    "            + sudoku_1[top_row_no + 2][left_col_no : left_col_no + 3]\n",
    "            for top_row_no, left_col_no in [\n",
    "                [0, 0],\n",
    "                [0, 3],\n",
    "                [0, 6],\n",
    "                [3, 0],\n",
    "                [3, 3],\n",
    "                [3, 6],\n",
    "                [6, 0],\n",
    "                [6, 3],\n",
    "                [6, 6],\n",
    "            ]\n",
    "        ]\n",
    "    )\n"
   ]
  },
  {
   "cell_type": "code",
   "execution_count": 8,
   "metadata": {},
   "outputs": [
    {
     "name": "stdout",
     "output_type": "stream",
     "text": [
      "Board sudoku_empty is valid? True\n",
      "Board sudoku_invalid_row is valid? False\n",
      "Board sudoku_invalid_column is valid? False\n",
      "Board sudoku_invalid_block is valid? True\n",
      "Board sudoku_1 is valid? True\n"
     ]
    }
   ],
   "source": [
    "print(f\"Board sudoku_empty is valid? {valid_board(sudoku_empty)}\")\n",
    "print(f\"Board sudoku_invalid_row is valid? {valid_board(sudoku_invalid_row)}\")\n",
    "print(f\"Board sudoku_invalid_column is valid? {valid_board(sudoku_invalid_column)}\")\n",
    "print(f\"Board sudoku_invalid_block is valid? {valid_board(sudoku_invalid_block)}\")\n",
    "print(f\"Board sudoku_1 is valid? {valid_board(sudoku_1)}\")"
   ]
  },
  {
   "cell_type": "code",
   "execution_count": 9,
   "metadata": {},
   "outputs": [],
   "source": [
    "def viable_insertion(sudoku, row, column, value):\n",
    "    previous_value, sudoku[row][column] = sudoku[row][column], value\n",
    "    viable, sudoku[row][column] = valid_board(sudoku), previous_value\n",
    "    return viable\n",
    "    "
   ]
  },
  {
   "cell_type": "code",
   "execution_count": 10,
   "metadata": {},
   "outputs": [],
   "source": [
    "def solve_sudoku(sudoku):\n",
    "    for row in range(9):\n",
    "        for column in range(9):\n",
    "            if sudoku[row][column] == 0:\n",
    "                for value in range(1,10):\n",
    "                    if viable_insertion(sudoku,row, column, value):\n",
    "                        # print(f\"depth, row, column, value = {depth} {row}, {column}, {value}\")\n",
    "                        sudoku[row][column] = value\n",
    "                        if solve_sudoku(sudoku):\n",
    "                            return True\n",
    "                        sudoku[row][column] = 0\n",
    "                return False        \n",
    "    return True\n",
    "    "
   ]
  },
  {
   "cell_type": "code",
   "execution_count": 13,
   "metadata": {},
   "outputs": [
    {
     "data": {
      "text/plain": [
       "[[9, 8, 1, 2, 4, 6, 3, 7, 5],\n",
       " [6, 2, 5, 7, 8, 3, 4, 1, 9],\n",
       " [3, 4, 7, 9, 5, 1, 8, 2, 6],\n",
       " [2, 1, 8, 6, 7, 9, 5, 3, 4],\n",
       " [7, 6, 4, 8, 3, 5, 1, 9, 2],\n",
       " [5, 9, 3, 4, 1, 2, 6, 8, 7],\n",
       " [8, 7, 6, 1, 2, 4, 9, 5, 3],\n",
       " [1, 5, 9, 3, 6, 7, 2, 4, 8],\n",
       " [4, 3, 2, 5, 9, 8, 7, 6, 1]]"
      ]
     },
     "execution_count": 13,
     "metadata": {},
     "output_type": "execute_result"
    }
   ],
   "source": [
    "solve_sudoku(sudoku_1)\n",
    "sudoku_1"
   ]
  }
 ],
 "metadata": {
  "interpreter": {
   "hash": "b554007b66a5a80326adc69ad650ede1f1e31be65c50ce5d55030017ccd756e4"
  },
  "kernelspec": {
   "display_name": "Python 3.9.7 ('base')",
   "language": "python",
   "name": "python3"
  },
  "language_info": {
   "codemirror_mode": {
    "name": "ipython",
    "version": 3
   },
   "file_extension": ".py",
   "mimetype": "text/x-python",
   "name": "python",
   "nbconvert_exporter": "python",
   "pygments_lexer": "ipython3",
   "version": "3.9.7"
  },
  "orig_nbformat": 4
 },
 "nbformat": 4,
 "nbformat_minor": 2
}
