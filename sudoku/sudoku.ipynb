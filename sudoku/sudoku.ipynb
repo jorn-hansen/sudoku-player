{
 "cells": [
  {
   "cell_type": "markdown",
   "metadata": {},
   "source": [
    "# Sudoku Player"
   ]
  },
  {
   "cell_type": "code",
   "execution_count": 241,
   "metadata": {},
   "outputs": [],
   "source": [
    "sudoku_empty = [\n",
    "    [0, 0, 0, 0, 0, 0, 0, 0, 0],\n",
    "    [0, 0, 0, 0, 0, 0, 0, 0, 0],\n",
    "    [0, 0, 0, 0, 0, 0, 0, 0, 0],\n",
    "    [0, 0, 0, 0, 0, 0, 0, 0, 0],\n",
    "    [0, 0, 0, 0, 0, 0, 0, 0, 0],\n",
    "    [0, 0, 0, 0, 0, 0, 0, 0, 0],\n",
    "    [0, 0, 0, 0, 0, 0, 0, 0, 0],\n",
    "    [0, 0, 0, 0, 0, 0, 0, 0, 0],\n",
    "    [0, 0, 0, 0, 0, 0, 0, 0, 0],\n",
    "]\n",
    "sudoku_invalid_row = [\n",
    "    [1, 0, 0, 0, 0, 0, 1, 0, 0],\n",
    "    [0, 0, 0, 0, 0, 0, 0, 0, 0],\n",
    "    [0, 0, 0, 0, 0, 0, 0, 0, 0],\n",
    "    [0, 0, 0, 0, 0, 0, 0, 0, 0],\n",
    "    [0, 0, 0, 0, 0, 0, 0, 0, 0],\n",
    "    [0, 0, 0, 0, 0, 0, 0, 0, 0],\n",
    "    [0, 0, 0, 0, 0, 0, 0, 0, 0],\n",
    "    [0, 0, 0, 0, 0, 0, 0, 0, 0],\n",
    "    [0, 0, 0, 0, 0, 0, 0, 0, 0],\n",
    "]\n",
    "sudoku_invalid_column = [\n",
    "    [1, 0, 0, 0, 0, 0, 0, 0, 0],\n",
    "    [0, 0, 0, 0, 0, 0, 0, 0, 0],\n",
    "    [0, 0, 0, 0, 0, 0, 0, 0, 0],\n",
    "    [0, 0, 0, 0, 0, 0, 0, 0, 0],\n",
    "    [0, 0, 0, 0, 0, 0, 0, 0, 0],\n",
    "    [0, 0, 0, 0, 0, 0, 0, 0, 0],\n",
    "    [1, 0, 0, 0, 0, 0, 0, 0, 0],\n",
    "    [0, 0, 0, 0, 0, 0, 0, 0, 0],\n",
    "    [0, 0, 0, 0, 0, 0, 0, 0, 0],\n",
    "]\n",
    "sudoku_invalid_block = [\n",
    "    [1, 0, 0, 0, 0, 0, 0, 0, 0],\n",
    "    [0, 0, 0, 0, 0, 0, 0, 0, 0],\n",
    "    [0, 0, 1, 0, 0, 0, 0, 0, 0],\n",
    "    [0, 0, 0, 0, 0, 0, 0, 0, 0],\n",
    "    [0, 0, 0, 0, 0, 0, 0, 0, 0],\n",
    "    [0, 0, 0, 0, 0, 0, 0, 0, 0],\n",
    "    [0, 0, 0, 0, 0, 0, 0, 0, 0],\n",
    "    [0, 0, 0, 0, 0, 0, 0, 0, 0],\n",
    "    [0, 0, 0, 0, 0, 0, 0, 0, 0],\n",
    "]\n",
    "sudoku_1 = [\n",
    "    [0, 0, 0, 0, 0, 6, 0, 0, 5],\n",
    "    [0, 0, 0, 7, 0, 0, 4, 0, 0],\n",
    "    [0, 0, 0, 0, 5, 1, 8, 2, 6],\n",
    "    [0, 1, 0, 6, 0, 9, 5, 3, 0],\n",
    "    [0, 6, 0, 0, 0, 0, 0, 9, 0],\n",
    "    [0, 9, 3, 4, 0, 2, 0, 8, 0],\n",
    "    [8, 7, 6, 1, 2, 0, 0, 0, 0],\n",
    "    [0, 0, 9, 0, 0, 7, 0, 0, 0],\n",
    "    [4, 0, 0, 5, 0, 0, 0, 0, 0],\n",
    "]\n"
   ]
  },
  {
   "cell_type": "code",
   "execution_count": 242,
   "metadata": {},
   "outputs": [],
   "source": [
    "def valid_board(sudoku):\n",
    "    for row in range(9):\n",
    "        counts = [0] * 10\n",
    "        for column in range(9):\n",
    "            value = sudoku[row][column]\n",
    "            if value > 0:\n",
    "                if counts[value] == 0:\n",
    "                    counts[value] = 1\n",
    "                else:\n",
    "                    # print(f\"Row violation row, column, value = {row}, {column}, {value}\")\n",
    "                    return False\n",
    "    for column in range(9):\n",
    "        counts = [0] * 10\n",
    "        for row in range(9):\n",
    "            value = sudoku[row][column]\n",
    "            if value > 0:\n",
    "                if counts[value] == 0:\n",
    "                    counts[value] = 1\n",
    "                else:\n",
    "                    # print(f\"Column violation row, column, value = {row}, {column}, {value}\")\n",
    "                    return False\n",
    "    for block in range(9):\n",
    "        counts = [0] * 10\n",
    "        for row in range(block//3*3,block//3*3+3):\n",
    "            for column in range(block%3*3,block%3*3+3):\n",
    "                value = sudoku[row][column]\n",
    "                if value > 0:\n",
    "                    if counts[value] == 0:\n",
    "                        counts[value] = 1\n",
    "                    else:\n",
    "                        # print(f\"Block violation block, row, column, value = {block}, {row}, {column}, {value}\")\n",
    "                        return False\n",
    "    return True\n"
   ]
  },
  {
   "cell_type": "code",
   "execution_count": 243,
   "metadata": {},
   "outputs": [
    {
     "name": "stdout",
     "output_type": "stream",
     "text": [
      "Board sudoku_empty is valid? True\n",
      "Board sudoku_invalid_row is valid? False\n",
      "Board sudoku_invalid_column is valid? False\n",
      "Board sudoku_invalid_block is valid? False\n"
     ]
    }
   ],
   "source": [
    "print(f\"Board sudoku_empty is valid? {valid_board(sudoku_empty)}\")\n",
    "print(f\"Board sudoku_invalid_row is valid? {valid_board(sudoku_invalid_row)}\")\n",
    "print(f\"Board sudoku_invalid_column is valid? {valid_board(sudoku_invalid_column)}\")\n",
    "print(f\"Board sudoku_invalid_block is valid? {valid_board(sudoku_invalid_block)}\")"
   ]
  },
  {
   "cell_type": "code",
   "execution_count": 244,
   "metadata": {},
   "outputs": [],
   "source": [
    "def viable_insertion(sudoku, row, column, value):\n",
    "    previous_value = sudoku[row][column]\n",
    "    sudoku[row][column] = value\n",
    "    viable = valid_board(sudoku)\n",
    "    sudoku[row][column] = previous_value\n",
    "    return viable\n",
    "    "
   ]
  },
  {
   "cell_type": "code",
   "execution_count": 245,
   "metadata": {},
   "outputs": [],
   "source": [
    "def solve_sudoku(sudoku):\n",
    "    for row in range(9):\n",
    "        for column in range(9):\n",
    "            if sudoku[row][column] == 0:\n",
    "                for value in range(1,10):\n",
    "                    if viable_insertion(sudoku,row, column, value):\n",
    "                        # print(f\"depth, row, column, value = {depth} {row}, {column}, {value}\")\n",
    "                        sudoku[row][column] = value\n",
    "                        if solve_sudoku(sudoku):\n",
    "                            return True\n",
    "                        sudoku[row][column] = 0\n",
    "                return False        \n",
    "    return True\n",
    "    "
   ]
  },
  {
   "cell_type": "code",
   "execution_count": 247,
   "metadata": {},
   "outputs": [
    {
     "data": {
      "text/plain": [
       "[[9, 8, 1, 2, 4, 6, 3, 7, 5],\n",
       " [6, 2, 5, 7, 8, 3, 4, 1, 9],\n",
       " [3, 4, 7, 9, 5, 1, 8, 2, 6],\n",
       " [2, 1, 8, 6, 7, 9, 5, 3, 4],\n",
       " [7, 6, 4, 8, 3, 5, 1, 9, 2],\n",
       " [5, 9, 3, 4, 1, 2, 6, 8, 7],\n",
       " [8, 7, 6, 1, 2, 4, 9, 5, 3],\n",
       " [1, 5, 9, 3, 6, 7, 2, 4, 8],\n",
       " [4, 3, 2, 5, 9, 8, 7, 6, 1]]"
      ]
     },
     "execution_count": 247,
     "metadata": {},
     "output_type": "execute_result"
    }
   ],
   "source": [
    "solve_sudoku(sudoku_1)\n",
    "list(sudoku_1)"
   ]
  }
 ],
 "metadata": {
  "interpreter": {
   "hash": "e7370f93d1d0cde622a1f8e1c04877d8463912d04d973331ad4851f04de6915a"
  },
  "kernelspec": {
   "display_name": "Python 3.10.4 64-bit",
   "language": "python",
   "name": "python3"
  },
  "language_info": {
   "codemirror_mode": {
    "name": "ipython",
    "version": 3
   },
   "file_extension": ".py",
   "mimetype": "text/x-python",
   "name": "python",
   "nbconvert_exporter": "python",
   "pygments_lexer": "ipython3",
   "version": "3.10.4"
  },
  "orig_nbformat": 4
 },
 "nbformat": 4,
 "nbformat_minor": 2
}
