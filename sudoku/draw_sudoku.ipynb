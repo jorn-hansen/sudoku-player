{
 "cells": [
  {
   "cell_type": "markdown",
   "metadata": {},
   "source": [
    "# Sudoku Board Drawing\n",
    "\n",
    "Pillow [Read the Docs](https://pillow.readthedocs.io/en/stable/handbook/tutorial.html#using-the-image-class)"
   ]
  },
  {
   "cell_type": "code",
   "execution_count": 35,
   "metadata": {},
   "outputs": [],
   "source": [
    "from PIL import Image, ImageDraw\n",
    "white = (255,255,255)\n",
    "black = (0,0,0)\n",
    "im = Image.new('RGB', (400, 400), white) \n",
    "draw = ImageDraw.Draw(im) \n",
    "# top\n",
    "draw.line((0,0, 400,0), black)\n",
    "# left\n",
    "draw.line((0,0, 0,400), black)\n",
    "# right\n",
    "draw.line((399,0, 399,400), black)\n",
    "# bottom\n",
    "draw.line((0,399, 399,399), black)\n",
    "# draw.line((100,400, 150,300), fill=128)\n",
    "# draw.rectangle((100,400, 150,300), (0, 0, 0))\n",
    "im.show()"
   ]
  }
 ],
 "metadata": {
  "interpreter": {
   "hash": "b554007b66a5a80326adc69ad650ede1f1e31be65c50ce5d55030017ccd756e4"
  },
  "kernelspec": {
   "display_name": "Python 3.9.7 ('base')",
   "language": "python",
   "name": "python3"
  },
  "language_info": {
   "codemirror_mode": {
    "name": "ipython",
    "version": 3
   },
   "file_extension": ".py",
   "mimetype": "text/x-python",
   "name": "python",
   "nbconvert_exporter": "python",
   "pygments_lexer": "ipython3",
   "version": "3.9.7"
  },
  "orig_nbformat": 4
 },
 "nbformat": 4,
 "nbformat_minor": 2
}
